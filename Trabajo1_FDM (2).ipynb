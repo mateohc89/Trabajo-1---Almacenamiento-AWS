{
 "cells": [
  {
   "cell_type": "code",
   "execution_count": 59,
   "id": "a758fe5a",
   "metadata": {},
   "outputs": [
    {
     "data": {
      "application/vnd.jupyter.widget-view+json": {
       "model_id": "",
       "version_major": 2,
       "version_minor": 0
      },
      "text/plain": [
       "FloatProgress(value=0.0, bar_style='info', description='Progress:', layout=Layout(height='25px', width='50%'),…"
      ]
     },
     "metadata": {},
     "output_type": "display_data"
    },
    {
     "name": "stdout",
     "output_type": "stream",
     "text": [
      "<pyspark.sql.session.SparkSession object at 0x7f6ecee89d10>"
     ]
    }
   ],
   "source": [
    "spark"
   ]
  },
  {
   "cell_type": "code",
   "execution_count": 60,
   "id": "7b6f5115",
   "metadata": {},
   "outputs": [
    {
     "data": {
      "application/vnd.jupyter.widget-view+json": {
       "model_id": "",
       "version_major": 2,
       "version_minor": 0
      },
      "text/plain": [
       "FloatProgress(value=0.0, bar_style='info', description='Progress:', layout=Layout(height='25px', width='50%'),…"
      ]
     },
     "metadata": {},
     "output_type": "display_data"
    },
    {
     "name": "stdout",
     "output_type": "stream",
     "text": [
      "<SparkContext master=yarn appName=livy-session-0>"
     ]
    }
   ],
   "source": [
    "sc"
   ]
  },
  {
   "cell_type": "code",
   "execution_count": 70,
   "id": "6925f61b",
   "metadata": {},
   "outputs": [
    {
     "data": {
      "application/vnd.jupyter.widget-view+json": {
       "model_id": "",
       "version_major": 2,
       "version_minor": 0
      },
      "text/plain": [
       "FloatProgress(value=0.0, bar_style='info', description='Progress:', layout=Layout(height='25px', width='50%'),…"
      ]
     },
     "metadata": {},
     "output_type": "display_data"
    }
   ],
   "source": [
    "df=spark.read.csv('s3://trabajo1-raw/datasets/Water Quality/Cities1/Cities1.csv',inferSchema=True,header=True)"
   ]
  },
  {
   "cell_type": "code",
   "execution_count": 52,
   "id": "9f911e68",
   "metadata": {},
   "outputs": [
    {
     "data": {
      "application/vnd.jupyter.widget-view+json": {
       "model_id": "",
       "version_major": 2,
       "version_minor": 0
      },
      "text/plain": [
       "FloatProgress(value=0.0, bar_style='info', description='Progress:', layout=Layout(height='25px', width='50%'),…"
      ]
     },
     "metadata": {},
     "output_type": "display_data"
    },
    {
     "name": "stdout",
     "output_type": "stream",
     "text": [
      "DataFrame[City: string, Region: string, Country: string, AirQuality: double, WaterPollution: double]"
     ]
    }
   ],
   "source": [
    "df"
   ]
  },
  {
   "cell_type": "code",
   "execution_count": 53,
   "id": "ea0e31b8",
   "metadata": {
    "scrolled": true
   },
   "outputs": [
    {
     "data": {
      "application/vnd.jupyter.widget-view+json": {
       "model_id": "",
       "version_major": 2,
       "version_minor": 0
      },
      "text/plain": [
       "FloatProgress(value=0.0, bar_style='info', description='Progress:', layout=Layout(height='25px', width='50%'),…"
      ]
     },
     "metadata": {},
     "output_type": "display_data"
    },
    {
     "name": "stdout",
     "output_type": "stream",
     "text": [
      "root\n",
      " |-- City: string (nullable = true)\n",
      " |-- Region: string (nullable = true)\n",
      " |-- Country: string (nullable = true)\n",
      " |-- AirQuality: double (nullable = true)\n",
      " |-- WaterPollution: double (nullable = true)"
     ]
    }
   ],
   "source": [
    "df.printSchema()"
   ]
  },
  {
   "cell_type": "code",
   "execution_count": 54,
   "id": "e6d51088",
   "metadata": {},
   "outputs": [
    {
     "data": {
      "application/vnd.jupyter.widget-view+json": {
       "model_id": "",
       "version_major": 2,
       "version_minor": 0
      },
      "text/plain": [
       "FloatProgress(value=0.0, bar_style='info', description='Progress:', layout=Layout(height='25px', width='50%'),…"
      ]
     },
     "metadata": {},
     "output_type": "display_data"
    },
    {
     "name": "stdout",
     "output_type": "stream",
     "text": [
      "+----------------+--------------------+--------------------+-----------+--------------+\n",
      "|            City|              Region|             Country| AirQuality|WaterPollution|\n",
      "+----------------+--------------------+--------------------+-----------+--------------+\n",
      "|   New York City|            New York|United States of ...|46.81603774|    49.5049505|\n",
      "|Washington, D.C.|District of Columbia|United States of ...|66.12903226|   49.10714286|\n",
      "|   San Francisco|          California|United States of ...|60.51401869|          43.0|\n",
      "|          Berlin|                null|             Germany|62.36413043|   28.61271676|\n",
      "|     Los Angeles|          California|United States of ...|36.62162162|   61.29943503|\n",
      "+----------------+--------------------+--------------------+-----------+--------------+\n",
      "only showing top 5 rows"
     ]
    }
   ],
   "source": [
    "df.show(5)"
   ]
  },
  {
   "cell_type": "code",
   "execution_count": 55,
   "id": "6ab80f68",
   "metadata": {},
   "outputs": [
    {
     "data": {
      "application/vnd.jupyter.widget-view+json": {
       "model_id": "",
       "version_major": 2,
       "version_minor": 0
      },
      "text/plain": [
       "FloatProgress(value=0.0, bar_style='info', description='Progress:', layout=Layout(height='25px', width='50%'),…"
      ]
     },
     "metadata": {},
     "output_type": "display_data"
    },
    {
     "name": "stdout",
     "output_type": "stream",
     "text": [
      "+-------+------+------------------+-----------+-----------------+------------------+\n",
      "|summary|  City|            Region|    Country|       AirQuality|    WaterPollution|\n",
      "+-------+------+------------------+-----------+-----------------+------------------+\n",
      "|  count|  3963|              3538|       3963|             3963|              3963|\n",
      "|   mean|   NaN|               NaN|       null| 62.2534517395642| 44.63537214186169|\n",
      "| stddev|  null|              null|       null|30.94475340271576|25.663910130285892|\n",
      "|    min|Aachen|    ???il Province|Afghanistan|              0.0|               0.0|\n",
      "|    max|Zywiec|canton of Fribourg|   Zimbabwe|            100.0|             100.0|\n",
      "+-------+------+------------------+-----------+-----------------+------------------+"
     ]
    }
   ],
   "source": [
    "df.describe().show()"
   ]
  },
  {
   "cell_type": "code",
   "execution_count": 64,
   "id": "9339d5f4",
   "metadata": {},
   "outputs": [
    {
     "data": {
      "application/vnd.jupyter.widget-view+json": {
       "model_id": "",
       "version_major": 2,
       "version_minor": 0
      },
      "text/plain": [
       "FloatProgress(value=0.0, bar_style='info', description='Progress:', layout=Layout(height='25px', width='50%'),…"
      ]
     },
     "metadata": {},
     "output_type": "display_data"
    }
   ],
   "source": [
    "from pyspark.sql.functions import udf"
   ]
  },
  {
   "cell_type": "code",
   "execution_count": 71,
   "id": "1ef6f23e",
   "metadata": {},
   "outputs": [
    {
     "data": {
      "application/vnd.jupyter.widget-view+json": {
       "model_id": "",
       "version_major": 2,
       "version_minor": 0
      },
      "text/plain": [
       "FloatProgress(value=0.0, bar_style='info', description='Progress:', layout=Layout(height='25px', width='50%'),…"
      ]
     },
     "metadata": {},
     "output_type": "display_data"
    },
    {
     "name": "stdout",
     "output_type": "stream",
     "text": [
      "+----------------+--------------------+------------------------+-----------+--------------+-------+\n",
      "|City            |Region              |Country                 |AirQuality |WaterPollution|AQ>Mean|\n",
      "+----------------+--------------------+------------------------+-----------+--------------+-------+\n",
      "|New York City   |New York            |United States of America|46.81603774|49.5049505    |0      |\n",
      "|Washington, D.C.|District of Columbia|United States of America|66.12903226|49.10714286   |1      |\n",
      "|San Francisco   |California          |United States of America|60.51401869|43.0          |0      |\n",
      "|Berlin          |null                |Germany                 |62.36413043|28.61271676   |1      |\n",
      "|Los Angeles     |California          |United States of America|36.62162162|61.29943503   |0      |\n",
      "|Bern            |Canton of Bern      |Switzerland             |94.31818182|12.5          |1      |\n",
      "|Geneva          |Canton of Geneva    |Switzerland             |71.53846154|17.37288136   |1      |\n",
      "|Zurich          |Canton of Zurich    |Switzerland             |83.80952381|10.71428571   |1      |\n",
      "|Basel           |null                |Switzerland             |81.66666667|26.92307692   |1      |\n",
      "|London          |England             |United Kingdom          |37.04225352|40.71637427   |0      |\n",
      "+----------------+--------------------+------------------------+-----------+--------------+-------+\n",
      "only showing top 10 rows"
     ]
    }
   ],
   "source": [
    "## Creando una columna con datos 1 = mayor que la media y 0 = menor que la media\n",
    "\n",
    "AQMean = udf(lambda AirQuality: \"0\" if AirQuality <= 62.25 else \"1\")\n",
    "\n",
    "df.withColumn(\"AQ>Mean\", AQMean(df.AirQuality)).show(10,False)\n",
    "\n"
   ]
  },
  {
   "cell_type": "code",
   "execution_count": 72,
   "id": "70afd328",
   "metadata": {},
   "outputs": [
    {
     "data": {
      "application/vnd.jupyter.widget-view+json": {
       "model_id": "",
       "version_major": 2,
       "version_minor": 0
      },
      "text/plain": [
       "FloatProgress(value=0.0, bar_style='info', description='Progress:', layout=Layout(height='25px', width='50%'),…"
      ]
     },
     "metadata": {},
     "output_type": "display_data"
    },
    {
     "name": "stdout",
     "output_type": "stream",
     "text": [
      "+----------------+--------------------+--------------------+-----------+--------------+\n",
      "|            City|              Region|             Country| AirQuality|WaterPollution|\n",
      "+----------------+--------------------+--------------------+-----------+--------------+\n",
      "|   New York City|            New York|United States of ...|46.81603774|    49.5049505|\n",
      "|Washington, D.C.|District of Columbia|United States of ...|66.12903226|   49.10714286|\n",
      "|   San Francisco|          California|United States of ...|60.51401869|          43.0|\n",
      "|          Berlin|                null|             Germany|62.36413043|   28.61271676|\n",
      "|     Los Angeles|          California|United States of ...|36.62162162|   61.29943503|\n",
      "+----------------+--------------------+--------------------+-----------+--------------+\n",
      "only showing top 5 rows"
     ]
    }
   ],
   "source": [
    "## No se guarda la columna AQMean\n",
    "\n",
    "df.show(5)"
   ]
  },
  {
   "cell_type": "code",
   "execution_count": 12,
   "id": "9b661617",
   "metadata": {},
   "outputs": [
    {
     "data": {
      "application/vnd.jupyter.widget-view+json": {
       "model_id": "",
       "version_major": 2,
       "version_minor": 0
      },
      "text/plain": [
       "FloatProgress(value=0.0, bar_style='info', description='Progress:', layout=Layout(height='25px', width='50%'),…"
      ]
     },
     "metadata": {},
     "output_type": "display_data"
    },
    {
     "name": "stdout",
     "output_type": "stream",
     "text": [
      "+-----------------+--------------------+--------+-----------+--------------+\n",
      "|             City|              Region| Country| AirQuality|WaterPollution|\n",
      "+-----------------+--------------------+--------+-----------+--------------+\n",
      "|           Bogota|                null|Colombia|23.35025381|   48.15789474|\n",
      "|          Pereira|Risaralda Department|Colombia|       25.0|          75.0|\n",
      "|     Barranquilla|Atlantico Department|Colombia|52.77777778|          50.0|\n",
      "|      Santa Marta|Magdalena Department|Colombia|       50.0|   71.42857143|\n",
      "|           Ibague|   Tolima Department|Colombia|56.61764706|   79.04411765|\n",
      "|            Tunja|   Boyaca Department|Colombia|      100.0|          75.0|\n",
      "|San Juan de Pasto|   Narino Department|Colombia|       70.0|          75.0|\n",
      "|       Valledupar|    Cesar Department|Colombia|       50.0|          50.0|\n",
      "|            Neiva|    Huila Department|Colombia|       75.0|          75.0|\n",
      "|        Cartagena|  Bolivar Department|Colombia|       60.0|          65.0|\n",
      "+-----------------+--------------------+--------+-----------+--------------+"
     ]
    }
   ],
   "source": [
    "## Ciudades de Colombia que tienen contaminanción del agua superior a la media mundial\n",
    "\n",
    "df.filter(df['Country']=='Colombia').filter(df['WaterPollution'] >44.63).show()"
   ]
  },
  {
   "cell_type": "code",
   "execution_count": 13,
   "id": "f063b6e8",
   "metadata": {},
   "outputs": [
    {
     "data": {
      "application/vnd.jupyter.widget-view+json": {
       "model_id": "",
       "version_major": 2,
       "version_minor": 0
      },
      "text/plain": [
       "FloatProgress(value=0.0, bar_style='info', description='Progress:', layout=Layout(height='25px', width='50%'),…"
      ]
     },
     "metadata": {},
     "output_type": "display_data"
    },
    {
     "name": "stdout",
     "output_type": "stream",
     "text": [
      "+------------------------+----------------------+-----+\n",
      "|Country                 |Region                |count|\n",
      "+------------------------+----------------------+-----+\n",
      "|United Kingdom          |England               |142  |\n",
      "|United States of America|California            |122  |\n",
      "|Czech Republic          |null                  |57   |\n",
      "|United States of America|Texas                 |51   |\n",
      "|United States of America|Florida               |48   |\n",
      "|Canada                  |Ontario               |47   |\n",
      "|France                  |null                  |42   |\n",
      "|Canada                  |British Columbia      |38   |\n",
      "|Philippines             |null                  |36   |\n",
      "|Brazil                  |Sao Paulo             |32   |\n",
      "|United States of America|Georgia               |31   |\n",
      "|United States of America|New York              |31   |\n",
      "|Germany                 |North Rhine-Westphalia|30   |\n",
      "|United States of America|Washington            |29   |\n",
      "|United States of America|North Carolina        |27   |\n",
      "|United States of America|Indiana               |26   |\n",
      "|United States of America|Illinois              |26   |\n",
      "|United States of America|Michigan              |24   |\n",
      "|Finland                 |null                  |23   |\n",
      "|Germany                 |Bavaria               |23   |\n",
      "+------------------------+----------------------+-----+\n",
      "only showing top 20 rows"
     ]
    }
   ],
   "source": [
    "## Regiones con más ciudades en dataframe\n",
    "\n",
    "df.groupBy('Country','Region').count().orderBy('count',ascending=False).show(20,False)"
   ]
  },
  {
   "cell_type": "code",
   "execution_count": 14,
   "id": "4ea717fa",
   "metadata": {},
   "outputs": [
    {
     "data": {
      "application/vnd.jupyter.widget-view+json": {
       "model_id": "",
       "version_major": 2,
       "version_minor": 0
      },
      "text/plain": [
       "FloatProgress(value=0.0, bar_style='info', description='Progress:', layout=Layout(height='25px', width='50%'),…"
      ]
     },
     "metadata": {},
     "output_type": "display_data"
    }
   ],
   "source": [
    "from pyspark.sql.types import StringType,DoubleType,IntegerType\n"
   ]
  },
  {
   "cell_type": "code",
   "execution_count": 15,
   "id": "d1560760",
   "metadata": {},
   "outputs": [
    {
     "data": {
      "application/vnd.jupyter.widget-view+json": {
       "model_id": "",
       "version_major": 2,
       "version_minor": 0
      },
      "text/plain": [
       "FloatProgress(value=0.0, bar_style='info', description='Progress:', layout=Layout(height='25px', width='50%'),…"
      ]
     },
     "metadata": {},
     "output_type": "display_data"
    },
    {
     "name": "stdout",
     "output_type": "stream",
     "text": [
      "+-----------------+--------------------+--------+-----------+--------------+\n",
      "|             City|              Region| Country| AirQuality|WaterPollution|\n",
      "+-----------------+--------------------+--------+-----------+--------------+\n",
      "|             Cali|Valle del Cauca D...|Colombia|67.04545455|       42.1875|\n",
      "|     Barranquilla|Atlantico Department|Colombia|52.77777778|          50.0|\n",
      "|      Santa Marta|Magdalena Department|Colombia|       50.0|   71.42857143|\n",
      "|           Ibague|   Tolima Department|Colombia|56.61764706|   79.04411765|\n",
      "|            Tunja|   Boyaca Department|Colombia|      100.0|          75.0|\n",
      "|      Bucaramanga|Santander Department|Colombia|       40.0|          25.0|\n",
      "|San Juan de Pasto|   Narino Department|Colombia|       70.0|          75.0|\n",
      "|          Armenia|  Quindio Department|Colombia|       62.5|          37.5|\n",
      "|          Popayan|    Cauca Department|Colombia|      100.0|          25.0|\n",
      "|       Valledupar|    Cesar Department|Colombia|       50.0|          50.0|\n",
      "|            Neiva|    Huila Department|Colombia|       75.0|          75.0|\n",
      "|        Cartagena|  Bolivar Department|Colombia|       60.0|          65.0|\n",
      "|    Villavicencio|                Meta|Colombia|      100.0|          25.0|\n",
      "+-----------------+--------------------+--------+-----------+--------------+"
     ]
    }
   ],
   "source": [
    "df.filter(df['Country']=='Colombia').filter(df['AirQuality'] >30).show()"
   ]
  },
  {
   "cell_type": "code",
   "execution_count": 17,
   "id": "27c2e181",
   "metadata": {},
   "outputs": [
    {
     "data": {
      "application/vnd.jupyter.widget-view+json": {
       "model_id": "",
       "version_major": 2,
       "version_minor": 0
      },
      "text/plain": [
       "FloatProgress(value=0.0, bar_style='info', description='Progress:', layout=Layout(height='25px', width='50%'),…"
      ]
     },
     "metadata": {},
     "output_type": "display_data"
    }
   ],
   "source": [
    "from pyspark.sql.functions import pandas_udf, PandasUDFType"
   ]
  },
  {
   "cell_type": "code",
   "execution_count": 18,
   "id": "04b4f61f",
   "metadata": {},
   "outputs": [
    {
     "data": {
      "application/vnd.jupyter.widget-view+json": {
       "model_id": "",
       "version_major": 2,
       "version_minor": 0
      },
      "text/plain": [
       "FloatProgress(value=0.0, bar_style='info', description='Progress:', layout=Layout(height='25px', width='50%'),…"
      ]
     },
     "metadata": {},
     "output_type": "display_data"
    }
   ],
   "source": [
    "def critical_airq(AirQuality):\n",
    "    quality_left= 2 * df.mean()-AirQuality\n",
    "\n",
    "    return quality_left"
   ]
  },
  {
   "cell_type": "code",
   "execution_count": 73,
   "id": "54c14954",
   "metadata": {},
   "outputs": [
    {
     "data": {
      "application/vnd.jupyter.widget-view+json": {
       "model_id": "",
       "version_major": 2,
       "version_minor": 0
      },
      "text/plain": [
       "FloatProgress(value=0.0, bar_style='info', description='Progress:', layout=Layout(height='25px', width='50%'),…"
      ]
     },
     "metadata": {},
     "output_type": "display_data"
    },
    {
     "name": "stderr",
     "output_type": "stream",
     "text": [
      "An error was encountered:\n",
      "'NoneType' object has no attribute 'write'\n",
      "Traceback (most recent call last):\n",
      "AttributeError: 'NoneType' object has no attribute 'write'\n",
      "\n"
     ]
    }
   ],
   "source": [
    "## Intentamos guardar el DataFrame con la nueva columna en una nueva variable, pero al correr el código nos mostró el siguiente error \n",
    "\n",
    "Rdf.write.format('csv').option('header','true').save('s3://trabajo1-refined/datarefine/water_quality/Rdf_csv',mode='overwrite')"
   ]
  },
  {
   "cell_type": "code",
   "execution_count": 74,
   "id": "29974fdd",
   "metadata": {},
   "outputs": [
    {
     "data": {
      "application/vnd.jupyter.widget-view+json": {
       "model_id": "",
       "version_major": 2,
       "version_minor": 0
      },
      "text/plain": [
       "FloatProgress(value=0.0, bar_style='info', description='Progress:', layout=Layout(height='25px', width='50%'),…"
      ]
     },
     "metadata": {},
     "output_type": "display_data"
    }
   ],
   "source": [
    "df.write.format('csv').option('header','true').save('s3://trabajo1-refined/datarefine/water_quality/df_csv',mode='overwrite')"
   ]
  }
 ],
 "metadata": {
  "kernelspec": {
   "display_name": "PySpark",
   "language": "python",
   "name": "pysparkkernel"
  },
  "language_info": {
   "codemirror_mode": {
    "name": "python",
    "version": 3
   },
   "file_extension": ".py",
   "mimetype": "text/x-python",
   "name": "pyspark",
   "pygments_lexer": "python3"
  }
 },
 "nbformat": 4,
 "nbformat_minor": 5
}
